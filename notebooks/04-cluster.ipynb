{
 "cells": [
  {
   "cell_type": "markdown",
   "metadata": {},
   "source": [
    "# 04-cluster.ipynb  \n",
    "## Clustering de Categorias de Produto  \n",
    "**Objetivo**: agrupar categorias que apresentam comportamentos semelhantes em termos de ticket médio, nota média de review e número de pedidos."
   ]
  },
  {
   "cell_type": "markdown",
   "metadata": {},
   "source": [
    "## Instalação do scikit-learn  \n",
    "Para executar o clustering, precisamos do scikit-learn. Execute o próximo bloco para instalar.\n"
   ]
  },
  {
   "cell_type": "code",
   "execution_count": 7,
   "metadata": {},
   "outputs": [
    {
     "name": "stdout",
     "output_type": "stream",
     "text": [
      "Requirement already satisfied: scikit-learn in /home/leonardo/Analise_Mercado_Varejo/venv/lib/python3.8/site-packages (1.3.2)\n",
      "Requirement already satisfied: numpy<2.0,>=1.17.3 in /home/leonardo/Analise_Mercado_Varejo/venv/lib/python3.8/site-packages (from scikit-learn) (1.24.4)\n",
      "Requirement already satisfied: scipy>=1.5.0 in /home/leonardo/Analise_Mercado_Varejo/venv/lib/python3.8/site-packages (from scikit-learn) (1.10.1)\n",
      "Requirement already satisfied: threadpoolctl>=2.0.0 in /home/leonardo/Analise_Mercado_Varejo/venv/lib/python3.8/site-packages (from scikit-learn) (3.5.0)\n",
      "Requirement already satisfied: joblib>=1.1.1 in /home/leonardo/Analise_Mercado_Varejo/venv/lib/python3.8/site-packages (from scikit-learn) (1.4.2)\n"
     ]
    }
   ],
   "source": [
    "!pip install scikit-learn\n"
   ]
  },
  {
   "cell_type": "code",
   "execution_count": 1,
   "metadata": {},
   "outputs": [],
   "source": [
    "import pandas as pd\n",
    "import numpy as np\n",
    "from sklearn.preprocessing import StandardScaler\n",
    "from sklearn.cluster import KMeans\n",
    "from sklearn.metrics import silhouette_score\n",
    "import matplotlib.pyplot as plt\n",
    "\n",
    "%matplotlib inline\n"
   ]
  },
  {
   "cell_type": "code",
   "execution_count": 2,
   "metadata": {},
   "outputs": [
    {
     "name": "stdout",
     "output_type": "stream",
     "text": [
      "Categorias agregadas: (73, 3)\n"
     ]
    },
    {
     "data": {
      "text/html": [
       "<div>\n",
       "<style scoped>\n",
       "    .dataframe tbody tr th:only-of-type {\n",
       "        vertical-align: middle;\n",
       "    }\n",
       "\n",
       "    .dataframe tbody tr th {\n",
       "        vertical-align: top;\n",
       "    }\n",
       "\n",
       "    .dataframe thead th {\n",
       "        text-align: right;\n",
       "    }\n",
       "</style>\n",
       "<table border=\"1\" class=\"dataframe\">\n",
       "  <thead>\n",
       "    <tr style=\"text-align: right;\">\n",
       "      <th></th>\n",
       "      <th>ticket_medio</th>\n",
       "      <th>nota_media</th>\n",
       "      <th>pedidos_contagem</th>\n",
       "    </tr>\n",
       "    <tr>\n",
       "      <th>product_category_name</th>\n",
       "      <th></th>\n",
       "      <th></th>\n",
       "      <th></th>\n",
       "    </tr>\n",
       "  </thead>\n",
       "  <tbody>\n",
       "    <tr>\n",
       "      <th>agro_industria_e_comercio</th>\n",
       "      <td>342.553883</td>\n",
       "      <td>4.087379</td>\n",
       "      <td>177</td>\n",
       "    </tr>\n",
       "    <tr>\n",
       "      <th>alimentos</th>\n",
       "      <td>57.577455</td>\n",
       "      <td>4.262834</td>\n",
       "      <td>441</td>\n",
       "    </tr>\n",
       "    <tr>\n",
       "      <th>alimentos_bebidas</th>\n",
       "      <td>55.475535</td>\n",
       "      <td>4.369004</td>\n",
       "      <td>221</td>\n",
       "    </tr>\n",
       "    <tr>\n",
       "      <th>artes</th>\n",
       "      <td>120.087817</td>\n",
       "      <td>4.082051</td>\n",
       "      <td>195</td>\n",
       "    </tr>\n",
       "    <tr>\n",
       "      <th>artes_e_artesanato</th>\n",
       "      <td>75.583750</td>\n",
       "      <td>4.125000</td>\n",
       "      <td>23</td>\n",
       "    </tr>\n",
       "  </tbody>\n",
       "</table>\n",
       "</div>"
      ],
      "text/plain": [
       "                           ticket_medio  nota_media  pedidos_contagem\n",
       "product_category_name                                                \n",
       "agro_industria_e_comercio    342.553883    4.087379               177\n",
       "alimentos                     57.577455    4.262834               441\n",
       "alimentos_bebidas             55.475535    4.369004               221\n",
       "artes                        120.087817    4.082051               195\n",
       "artes_e_artesanato            75.583750    4.125000                23"
      ]
     },
     "metadata": {},
     "output_type": "display_data"
    }
   ],
   "source": [
    "# 1) Carregar o dataset limpo\n",
    "df = pd.read_csv(\"../data/ecommerce_clean.csv\", parse_dates=[\"order_purchase_timestamp\"])\n",
    "\n",
    "# 2) Criar agregados por categoria\n",
    "agg = df.groupby(\"product_category_name\").agg(\n",
    "    ticket_medio      = (\"total_price\", \"mean\"),\n",
    "    nota_media        = (\"review_score\", \"mean\"),\n",
    "    pedidos_contagem  = (\"order_id\", \"nunique\")\n",
    ").dropna()\n",
    "\n",
    "print(\"Categorias agregadas:\", agg.shape)\n",
    "display(agg.head())\n"
   ]
  },
  {
   "cell_type": "markdown",
   "metadata": {},
   "source": [
    "## 2. Preparação para clustering  \n",
    "Padronizamos as variáveis para que tenham média zero e variância 1."
   ]
  },
  {
   "cell_type": "code",
   "execution_count": 3,
   "metadata": {},
   "outputs": [
    {
     "name": "stdout",
     "output_type": "stream",
     "text": [
      "Matriz padronizada: (73, 3)\n"
     ]
    }
   ],
   "source": [
    "scaler = StandardScaler()\n",
    "X = scaler.fit_transform(agg)\n",
    "\n",
    "print(\"Matriz padronizada:\", X.shape)\n"
   ]
  },
  {
   "cell_type": "markdown",
   "metadata": {},
   "source": [
    "## 3. Escolha do número de clusters  \n",
    "Calculamos inércia (elbow) e score de silhouette para k de 2 a 8.\n"
   ]
  },
  {
   "cell_type": "code",
   "execution_count": 4,
   "metadata": {},
   "outputs": [
    {
     "data": {
      "image/png": "[encoded data removed]",
      "text/plain": [
       "<Figure size 640x480 with 1 Axes>"
      ]
     },
     "metadata": {},
     "output_type": "display_data"
    },
    {
     "data": {
      "image/png": "[encoded data removed]",
      "text/plain": [
       "<Figure size 640x480 with 1 Axes>"
      ]
     },
     "metadata": {},
     "output_type": "display_data"
    }
   ],
   "source": [
    "inertia = []\n",
    "sil_scores = []\n",
    "K = range(2, 9)\n",
    "\n",
    "for k in K:\n",
    "    km = KMeans(n_clusters=k, random_state=42, n_init=10)\n",
    "    labels = km.fit_predict(X)\n",
    "    inertia.append(km.inertia_)\n",
    "    sil_scores.append(silhouette_score(X, labels))\n",
    "\n",
    "# Plot elbow\n",
    "plt.figure()\n",
    "plt.plot(K, inertia, marker=\"o\")\n",
    "plt.title(\"Método do Cotovelo\")\n",
    "plt.xlabel(\"Número de clusters k\")\n",
    "plt.ylabel(\"Inércia\")\n",
    "plt.tight_layout()\n",
    "\n",
    "# Plot silhouette\n",
    "plt.figure()\n",
    "plt.plot(K, sil_scores, marker=\"o\")\n",
    "plt.title(\"Silhouette Score\")\n",
    "plt.xlabel(\"Número de clusters k\")\n",
    "plt.ylabel(\"Silhouette\")\n",
    "plt.tight_layout()\n"
   ]
  },
  {
   "cell_type": "markdown",
   "metadata": {},
   "source": [
    "## 4. Ajuste final do KMeans  \n",
    "Escolha o k que fizer mais sentido (ex.: 3). Em seguida, atribua labels às categorias.\n"
   ]
  },
  {
   "cell_type": "code",
   "execution_count": 5,
   "metadata": {},
   "outputs": [
    {
     "data": {
      "text/html": [
       "<div>\n",
       "<style scoped>\n",
       "    .dataframe tbody tr th:only-of-type {\n",
       "        vertical-align: middle;\n",
       "    }\n",
       "\n",
       "    .dataframe tbody tr th {\n",
       "        vertical-align: top;\n",
       "    }\n",
       "\n",
       "    .dataframe thead th {\n",
       "        text-align: right;\n",
       "    }\n",
       "</style>\n",
       "<table border=\"1\" class=\"dataframe\">\n",
       "  <thead>\n",
       "    <tr style=\"text-align: right;\">\n",
       "      <th></th>\n",
       "      <th>ticket_medio</th>\n",
       "      <th>nota_media</th>\n",
       "      <th>pedidos_contagem</th>\n",
       "      <th>cluster</th>\n",
       "    </tr>\n",
       "    <tr>\n",
       "      <th>product_category_name</th>\n",
       "      <th></th>\n",
       "      <th></th>\n",
       "      <th></th>\n",
       "      <th></th>\n",
       "    </tr>\n",
       "  </thead>\n",
       "  <tbody>\n",
       "    <tr>\n",
       "      <th>agro_industria_e_comercio</th>\n",
       "      <td>342.553883</td>\n",
       "      <td>4.087379</td>\n",
       "      <td>177</td>\n",
       "      <td>0</td>\n",
       "    </tr>\n",
       "    <tr>\n",
       "      <th>fashion_esporte</th>\n",
       "      <td>70.650333</td>\n",
       "      <td>4.366667</td>\n",
       "      <td>26</td>\n",
       "      <td>0</td>\n",
       "    </tr>\n",
       "    <tr>\n",
       "      <th>telefonia_fixa</th>\n",
       "      <td>216.231250</td>\n",
       "      <td>3.758893</td>\n",
       "      <td>212</td>\n",
       "      <td>0</td>\n",
       "    </tr>\n",
       "    <tr>\n",
       "      <th>fashion_roupa_infanto_juvenil</th>\n",
       "      <td>74.278571</td>\n",
       "      <td>5.000000</td>\n",
       "      <td>7</td>\n",
       "      <td>0</td>\n",
       "    </tr>\n",
       "    <tr>\n",
       "      <th>fashion_roupa_masculina</th>\n",
       "      <td>83.618640</td>\n",
       "      <td>3.758065</td>\n",
       "      <td>106</td>\n",
       "      <td>0</td>\n",
       "    </tr>\n",
       "    <tr>\n",
       "      <th>fashion_underwear_e_moda_praia</th>\n",
       "      <td>73.275197</td>\n",
       "      <td>4.047619</td>\n",
       "      <td>117</td>\n",
       "      <td>0</td>\n",
       "    </tr>\n",
       "    <tr>\n",
       "      <th>flores</th>\n",
       "      <td>33.637576</td>\n",
       "      <td>4.419355</td>\n",
       "      <td>29</td>\n",
       "      <td>0</td>\n",
       "    </tr>\n",
       "    <tr>\n",
       "      <th>fraldas_higiene</th>\n",
       "      <td>40.561892</td>\n",
       "      <td>3.378378</td>\n",
       "      <td>25</td>\n",
       "      <td>0</td>\n",
       "    </tr>\n",
       "    <tr>\n",
       "      <th>industria_comercio_e_negocios</th>\n",
       "      <td>144.323811</td>\n",
       "      <td>4.125954</td>\n",
       "      <td>231</td>\n",
       "      <td>0</td>\n",
       "    </tr>\n",
       "    <tr>\n",
       "      <th>instrumentos_musicais</th>\n",
       "      <td>282.731043</td>\n",
       "      <td>4.222910</td>\n",
       "      <td>611</td>\n",
       "      <td>0</td>\n",
       "    </tr>\n",
       "    <tr>\n",
       "      <th>la_cuisine</th>\n",
       "      <td>146.785000</td>\n",
       "      <td>4.000000</td>\n",
       "      <td>13</td>\n",
       "      <td>0</td>\n",
       "    </tr>\n",
       "    <tr>\n",
       "      <th>livros_importados</th>\n",
       "      <td>77.523860</td>\n",
       "      <td>4.508772</td>\n",
       "      <td>50</td>\n",
       "      <td>0</td>\n",
       "    </tr>\n",
       "    <tr>\n",
       "      <th>livros_interesse_geral</th>\n",
       "      <td>84.433302</td>\n",
       "      <td>4.511278</td>\n",
       "      <td>495</td>\n",
       "      <td>0</td>\n",
       "    </tr>\n",
       "    <tr>\n",
       "      <th>livros_tecnicos</th>\n",
       "      <td>70.774340</td>\n",
       "      <td>4.393939</td>\n",
       "      <td>256</td>\n",
       "      <td>0</td>\n",
       "    </tr>\n",
       "    <tr>\n",
       "      <th>fashion_calcados</th>\n",
       "      <td>89.254462</td>\n",
       "      <td>4.285156</td>\n",
       "      <td>235</td>\n",
       "      <td>0</td>\n",
       "    </tr>\n",
       "    <tr>\n",
       "      <th>malas_acessorios</th>\n",
       "      <td>128.785172</td>\n",
       "      <td>4.352283</td>\n",
       "      <td>1019</td>\n",
       "      <td>0</td>\n",
       "    </tr>\n",
       "    <tr>\n",
       "      <th>moveis_colchao_e_estofado</th>\n",
       "      <td>116.848108</td>\n",
       "      <td>3.891892</td>\n",
       "      <td>37</td>\n",
       "      <td>0</td>\n",
       "    </tr>\n",
       "    <tr>\n",
       "      <th>moveis_cozinha_area_de_servico_jantar_e_jardim</th>\n",
       "      <td>166.175109</td>\n",
       "      <td>4.033088</td>\n",
       "      <td>241</td>\n",
       "      <td>0</td>\n",
       "    </tr>\n",
       "    <tr>\n",
       "      <th>moveis_escritorio</th>\n",
       "      <td>160.559058</td>\n",
       "      <td>3.517428</td>\n",
       "      <td>1254</td>\n",
       "      <td>0</td>\n",
       "    </tr>\n",
       "    <tr>\n",
       "      <th>moveis_quarto</th>\n",
       "      <td>184.968932</td>\n",
       "      <td>4.252427</td>\n",
       "      <td>90</td>\n",
       "      <td>0</td>\n",
       "    </tr>\n",
       "  </tbody>\n",
       "</table>\n",
       "</div>"
      ],
      "text/plain": [
       "                                                ticket_medio  nota_media  \\\n",
       "product_category_name                                                      \n",
       "agro_industria_e_comercio                         342.553883    4.087379   \n",
       "fashion_esporte                                    70.650333    4.366667   \n",
       "telefonia_fixa                                    216.231250    3.758893   \n",
       "fashion_roupa_infanto_juvenil                      74.278571    5.000000   \n",
       "fashion_roupa_masculina                            83.618640    3.758065   \n",
       "fashion_underwear_e_moda_praia                     73.275197    4.047619   \n",
       "flores                                             33.637576    4.419355   \n",
       "fraldas_higiene                                    40.561892    3.378378   \n",
       "industria_comercio_e_negocios                     144.323811    4.125954   \n",
       "instrumentos_musicais                             282.731043    4.222910   \n",
       "la_cuisine                                        146.785000    4.000000   \n",
       "livros_importados                                  77.523860    4.508772   \n",
       "livros_interesse_geral                             84.433302    4.511278   \n",
       "livros_tecnicos                                    70.774340    4.393939   \n",
       "fashion_calcados                                   89.254462    4.285156   \n",
       "malas_acessorios                                  128.785172    4.352283   \n",
       "moveis_colchao_e_estofado                         116.848108    3.891892   \n",
       "moveis_cozinha_area_de_servico_jantar_e_jardim    166.175109    4.033088   \n",
       "moveis_escritorio                                 160.559058    3.517428   \n",
       "moveis_quarto                                     184.968932    4.252427   \n",
       "\n",
       "                                                pedidos_contagem  cluster  \n",
       "product_category_name                                                      \n",
       "agro_industria_e_comercio                                    177        0  \n",
       "fashion_esporte                                               26        0  \n",
       "telefonia_fixa                                               212        0  \n",
       "fashion_roupa_infanto_juvenil                                  7        0  \n",
       "fashion_roupa_masculina                                      106        0  \n",
       "fashion_underwear_e_moda_praia                               117        0  \n",
       "flores                                                        29        0  \n",
       "fraldas_higiene                                               25        0  \n",
       "industria_comercio_e_negocios                                231        0  \n",
       "instrumentos_musicais                                        611        0  \n",
       "la_cuisine                                                    13        0  \n",
       "livros_importados                                             50        0  \n",
       "livros_interesse_geral                                       495        0  \n",
       "livros_tecnicos                                              256        0  \n",
       "fashion_calcados                                             235        0  \n",
       "malas_acessorios                                            1019        0  \n",
       "moveis_colchao_e_estofado                                     37        0  \n",
       "moveis_cozinha_area_de_servico_jantar_e_jardim               241        0  \n",
       "moveis_escritorio                                           1254        0  \n",
       "moveis_quarto                                                 90        0  "
      ]
     },
     "metadata": {},
     "output_type": "display_data"
    }
   ],
   "source": [
    "# Ajuste com o k escolhido (por exemplo, k=3)\n",
    "k_final = 3\n",
    "kmeans = KMeans(n_clusters=k_final, random_state=42, n_init=10)\n",
    "agg[\"cluster\"] = kmeans.fit_predict(X)\n",
    "\n",
    "# Visualizar clusters\n",
    "display(agg.sort_values(\"cluster\").head(20))\n"
   ]
  },
  {
   "cell_type": "markdown",
   "metadata": {},
   "source": [
    "## 5. Interpretação dos Clusters  \n",
    "Calculamos estatísticas agregadas para entender o perfil de cada grupo.\n"
   ]
  },
  {
   "cell_type": "code",
   "execution_count": 6,
   "metadata": {},
   "outputs": [
    {
     "name": "stdout",
     "output_type": "stream",
     "text": [
      "Arquivo '../data/category_clusters.csv' gerado com sucesso!\n"
     ]
    },
    {
     "data": {
      "text/html": [
       "<div>\n",
       "<style scoped>\n",
       "    .dataframe tbody tr th:only-of-type {\n",
       "        vertical-align: middle;\n",
       "    }\n",
       "\n",
       "    .dataframe tbody tr th {\n",
       "        vertical-align: top;\n",
       "    }\n",
       "\n",
       "    .dataframe thead th {\n",
       "        text-align: right;\n",
       "    }\n",
       "</style>\n",
       "<table border=\"1\" class=\"dataframe\">\n",
       "  <thead>\n",
       "    <tr style=\"text-align: right;\">\n",
       "      <th></th>\n",
       "      <th>ticket_medio_media</th>\n",
       "      <th>nota_media_media</th>\n",
       "      <th>pedidos_total</th>\n",
       "      <th>num_categorias</th>\n",
       "    </tr>\n",
       "    <tr>\n",
       "      <th>cluster</th>\n",
       "      <th></th>\n",
       "      <th></th>\n",
       "      <th></th>\n",
       "      <th></th>\n",
       "    </tr>\n",
       "  </thead>\n",
       "  <tbody>\n",
       "    <tr>\n",
       "      <th>0</th>\n",
       "      <td>121.713787</td>\n",
       "      <td>4.074913</td>\n",
       "      <td>24083</td>\n",
       "      <td>57</td>\n",
       "    </tr>\n",
       "    <tr>\n",
       "      <th>1</th>\n",
       "      <td>118.983624</td>\n",
       "      <td>4.092454</td>\n",
       "      <td>71324</td>\n",
       "      <td>13</td>\n",
       "    </tr>\n",
       "    <tr>\n",
       "      <th>2</th>\n",
       "      <td>733.866271</td>\n",
       "      <td>4.272409</td>\n",
       "      <td>476</td>\n",
       "      <td>3</td>\n",
       "    </tr>\n",
       "  </tbody>\n",
       "</table>\n",
       "</div>"
      ],
      "text/plain": [
       "         ticket_medio_media  nota_media_media  pedidos_total  num_categorias\n",
       "cluster                                                                     \n",
       "0                121.713787          4.074913          24083              57\n",
       "1                118.983624          4.092454          71324              13\n",
       "2                733.866271          4.272409            476               3"
      ]
     },
     "metadata": {},
     "output_type": "display_data"
    }
   ],
   "source": [
    "# Resumo por cluster\n",
    "summary = agg.groupby(\"cluster\").agg(\n",
    "    ticket_medio_media   = (\"ticket_medio\",      \"mean\"),\n",
    "    nota_media_media     = (\"nota_media\",        \"mean\"),\n",
    "    pedidos_total        = (\"pedidos_contagem\",  \"sum\")\n",
    ")\n",
    "# Quantidade de categorias em cada cluster\n",
    "summary[\"num_categorias\"] = agg.groupby(\"cluster\").size()\n",
    "# Cria DataFrame com categoria e seu cluster\n",
    "clusters_map = agg.reset_index()[[\"product_category_name\", \"cluster\"]]\n",
    "\n",
    "# Garante que a pasta data/ existe\n",
    "import os\n",
    "os.makedirs(\"../data\", exist_ok=True)\n",
    "\n",
    "# Salva em CSV para o dashboard\n",
    "clusters_map.to_csv(\"../data/category_clusters.csv\", index=False)\n",
    "print(\"Arquivo '../data/category_clusters.csv' gerado com sucesso!\")\n",
    "\n",
    "display(summary)\n"
   ]
  },
  {
   "cell_type": "markdown",
   "metadata": {},
   "source": [
    "## Interpretação dos Clusters\n",
    "\n",
    "- **Cluster 0 – “Baixo Valor & Baixo Volume”**  \n",
    "  Este grupo reúne categorias com **ticket médio mais baixo** e **poucos pedidos**. São produtos de entrada ou reposição (ex.: acessórios simples, itens de baixo custo) que não geram grande receita, mas atendem a nichos específicos ou compras ocasionais.\n",
    "\n",
    "- **Cluster 1 – “Premium & Exclusivo”**  \n",
    "  Aqui estão as categorias com **ticket médio mais alto** e **volume reduzido de vendas**. Inclui itens de maior valor agregado (ex.: eletroeletrônicos, equipamentos especializados) que, embora vendidos em menor quantidade, contribuem significativamente para a receita por pedido.\n",
    "\n",
    "- **Cluster 2 – “Equilíbrio & Volume”**  \n",
    "  Este conjunto representa as categorias de **ticket médio e número de pedidos intermediários**, equilibrando volume e valor. São produtos de consumo mais frequente (ex.: itens de casa, beleza, vestuário) que sustentam o fluxo constante de vendas e formam a espinha dorsal do e-commerce.\n"
   ]
  }
 ],
 "metadata": {
  "kernelspec": {
   "display_name": "venv",
   "language": "python",
   "name": "python3"
  },
  "language_info": {
   "codemirror_mode": {
    "name": "ipython",
    "version": 3
   },
   "file_extension": ".py",
   "mimetype": "text/x-python",
   "name": "python",
   "nbconvert_exporter": "python",
   "pygments_lexer": "ipython3",
   "version": "3.8.10"
  }
 },
 "nbformat": 4,
 "nbformat_minor": 2
}
